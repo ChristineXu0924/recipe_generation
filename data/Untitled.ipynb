{
 "cells": [
  {
   "cell_type": "code",
   "execution_count": 8,
   "id": "4eeed703",
   "metadata": {},
   "outputs": [],
   "source": [
    "import pandas as pd\n",
    "import numpy as np\n",
    "import data\n",
    "import json"
   ]
  },
  {
   "cell_type": "code",
   "execution_count": 9,
   "id": "88d540a0",
   "metadata": {},
   "outputs": [],
   "source": [
    "result = data.combined_foodcom.to_json(orient=\"index\")\n",
    "parsed = json.loads(result)\n",
    "json.dumps(parsed, indent=4)  "
   ]
  },
  {
   "cell_type": "code",
   "execution_count": 11,
   "id": "9edacc2e",
   "metadata": {},
   "outputs": [
    {
     "name": "stderr",
     "output_type": "stream",
     "text": [
      "/var/folders/m1/rwxd3g8d2zl60slvhbm1p89w0000gn/T/ipykernel_16210/4281945601.py:23: SettingWithCopyWarning: \n",
      "A value is trying to be set on a copy of a slice from a DataFrame.\n",
      "Try using .loc[row_indexer,col_indexer] = value instead\n",
      "\n",
      "See the caveats in the documentation: https://pandas.pydata.org/pandas-docs/stable/user_guide/indexing.html#returning-a-view-versus-a-copy\n",
      "  nlg_foodcom['id'] = id_lst\n",
      "/var/folders/m1/rwxd3g8d2zl60slvhbm1p89w0000gn/T/ipykernel_16210/4281945601.py:24: SettingWithCopyWarning: \n",
      "A value is trying to be set on a copy of a slice from a DataFrame.\n",
      "Try using .loc[row_indexer,col_indexer] = value instead\n",
      "\n",
      "See the caveats in the documentation: https://pandas.pydata.org/pandas-docs/stable/user_guide/indexing.html#returning-a-view-versus-a-copy\n",
      "  nlg_foodcom['title'] = nlg_foodcom['title'].str.lower()\n"
     ]
    }
   ],
   "source": [
    "import pandas as pd \n",
    "import numpy as np \n",
    "import ast\n",
    "\n",
    "nlg_path = 'RecipeNLG_dataset.csv.zip'\n",
    "foodcom_path = 'RAW_recipes.csv.zip'\n",
    "\n",
    "# def dataset(nlg_path, foodcom_path):\n",
    "nlg_recipe = pd.read_csv(nlg_path, compression='zip',  header=0, sep=',', quotechar='\"')\n",
    "nlg_recipe = nlg_recipe.drop(columns='Unnamed: 0')\n",
    "\n",
    "url_features = nlg_recipe['link'].str.split('/',expand=True)\n",
    "nlg_recipe['website'] = url_features[0]\n",
    "\n",
    "# Split out the food.com subset, \n",
    "nlg_foodcom = nlg_recipe[nlg_recipe['website'] == 'www.food.com']\n",
    "\n",
    "id_lst = []\n",
    "for link in nlg_foodcom['link']:\n",
    "    cur_id = int(link.split('-')[-1])\n",
    "    id_lst.append(cur_id)\n",
    "\n",
    "nlg_foodcom['id'] = id_lst\n",
    "nlg_foodcom['title'] = nlg_foodcom['title'].str.lower()"
   ]
  },
  {
   "cell_type": "code",
   "execution_count": 14,
   "id": "48b72302",
   "metadata": {},
   "outputs": [
    {
     "data": {
      "text/plain": [
       "pandas.core.series.Series"
      ]
     },
     "execution_count": 14,
     "metadata": {},
     "output_type": "execute_result"
    }
   ],
   "source": [
    "type(nlg_foodcom['title'])"
   ]
  },
  {
   "cell_type": "code",
   "execution_count": null,
   "id": "754c2056",
   "metadata": {},
   "outputs": [],
   "source": []
  }
 ],
 "metadata": {
  "kernelspec": {
   "display_name": "Python 3 (ipykernel)",
   "language": "python",
   "name": "python3"
  },
  "language_info": {
   "codemirror_mode": {
    "name": "ipython",
    "version": 3
   },
   "file_extension": ".py",
   "mimetype": "text/x-python",
   "name": "python",
   "nbconvert_exporter": "python",
   "pygments_lexer": "ipython3",
   "version": "3.9.13"
  }
 },
 "nbformat": 4,
 "nbformat_minor": 5
}
