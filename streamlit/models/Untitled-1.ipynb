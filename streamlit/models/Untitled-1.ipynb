{
 "cells": [
  {
   "cell_type": "code",
   "execution_count": 2,
   "metadata": {},
   "outputs": [],
   "source": [
    "import pickle\n",
    "import dill"
   ]
  },
  {
   "cell_type": "code",
   "execution_count": 5,
   "metadata": {},
   "outputs": [],
   "source": [
    "def convert_pickle(python2_pickle_path, python3_pickle_path):\n",
    "    # Open the pickle using Python 2's 'open' method, but in Python 3\n",
    "    with open(python2_pickle_path, 'rb') as f:\n",
    "        # Load the file using encoding='latin1' to handle the Python 2 string encoding\n",
    "        data = dill.load(f, encoding='latin1')\n",
    "\n",
    "    # Now, save the data again with Python 3's pickle\n",
    "    with open(python3_pickle_path, 'wb') as f:\n",
    "        dill.dump(data, f)\n",
    "\n",
    "\n"
   ]
  },
  {
   "cell_type": "code",
   "execution_count": null,
   "metadata": {},
   "outputs": [],
   "source": [
    "# Use the function on your file\n",
    "convert_pickle('tfidf.pkl', 'tfidf.pkl')"
   ]
  },
  {
   "cell_type": "code",
   "execution_count": 6,
   "metadata": {},
   "outputs": [],
   "source": [
    "convert_pickle('tfidf_encodings.pkl', 'tfidf_encodings.pkl')"
   ]
  },
  {
   "cell_type": "code",
   "execution_count": null,
   "metadata": {},
   "outputs": [],
   "source": []
  }
 ],
 "metadata": {
  "kernelspec": {
   "display_name": "180q2",
   "language": "python",
   "name": "python3"
  },
  "language_info": {
   "codemirror_mode": {
    "name": "ipython",
    "version": 3
   },
   "file_extension": ".py",
   "mimetype": "text/x-python",
   "name": "python",
   "nbconvert_exporter": "python",
   "pygments_lexer": "ipython3",
   "version": "3.9.18"
  }
 },
 "nbformat": 4,
 "nbformat_minor": 2
}
